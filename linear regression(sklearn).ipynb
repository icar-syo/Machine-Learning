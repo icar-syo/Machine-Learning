{
 "cells": [
  {
   "cell_type": "code",
   "execution_count": 124,
   "metadata": {},
   "outputs": [],
   "source": [
    "import numpy as np\n",
    "import pandas as pd\n",
    "import matplotlib.pyplot as plt"
   ]
  },
  {
   "cell_type": "code",
   "execution_count": 125,
   "metadata": {},
   "outputs": [],
   "source": [
    "data=pd.read_csv('ex1data1.txt',names=['population','profit'])\n",
    "X_train=data.iloc[:80,0]\n",
    "y_train=data.iloc[:80,1]\n",
    "X_train=X_train.values\n",
    "y_train=y_train.values\n",
    "X_train=X_train.reshape(-1,1)\n",
    "\n",
    "X_test=data.iloc[80:,0]\n",
    "y_test=data.iloc[80:,1]\n",
    "X_test=X_test.values\n",
    "y_test=y_test.values\n",
    "X_test=X_test.reshape(-1,1)\n",
    "\n"
   ]
  },
  {
   "cell_type": "code",
   "execution_count": 126,
   "metadata": {},
   "outputs": [
    {
     "data": {
      "text/plain": [
       "array([1.18363054])"
      ]
     },
     "execution_count": 126,
     "metadata": {},
     "output_type": "execute_result"
    }
   ],
   "source": [
    "from sklearn import linear_model\n",
    "reg=linear_model.LinearRegression()\n",
    "reg.fit(X_train,y_train)\n",
    "reg.coef_\n",
    "# train the model with the train data"
   ]
  }
 ],
 "metadata": {
  "kernelspec": {
   "display_name": "wuenda",
   "language": "python",
   "name": "python3"
  },
  "language_info": {
   "codemirror_mode": {
    "name": "ipython",
    "version": 3
   },
   "file_extension": ".py",
   "mimetype": "text/x-python",
   "name": "python",
   "nbconvert_exporter": "python",
   "pygments_lexer": "ipython3",
   "version": "3.11.4"
  }
 },
 "nbformat": 4,
 "nbformat_minor": 2
}
