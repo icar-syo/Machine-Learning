{
 "cells": [
  {
   "cell_type": "code",
   "execution_count": 48,
   "metadata": {},
   "outputs": [],
   "source": [
    "import numpy as np\n",
    "import matplotlib.pyplot as plt\n",
    "import pandas as pd"
   ]
  },
  {
   "cell_type": "code",
   "execution_count": 49,
   "metadata": {},
   "outputs": [
    {
     "data": {
      "text/html": [
       "<div>\n",
       "<style scoped>\n",
       "    .dataframe tbody tr th:only-of-type {\n",
       "        vertical-align: middle;\n",
       "    }\n",
       "\n",
       "    .dataframe tbody tr th {\n",
       "        vertical-align: top;\n",
       "    }\n",
       "\n",
       "    .dataframe thead th {\n",
       "        text-align: right;\n",
       "    }\n",
       "</style>\n",
       "<table border=\"1\" class=\"dataframe\">\n",
       "  <thead>\n",
       "    <tr style=\"text-align: right;\">\n",
       "      <th></th>\n",
       "      <th>Exam1</th>\n",
       "      <th>Exam2</th>\n",
       "      <th>score</th>\n",
       "    </tr>\n",
       "  </thead>\n",
       "  <tbody>\n",
       "    <tr>\n",
       "      <th>0</th>\n",
       "      <td>34.623660</td>\n",
       "      <td>78.024693</td>\n",
       "      <td>0</td>\n",
       "    </tr>\n",
       "    <tr>\n",
       "      <th>1</th>\n",
       "      <td>30.286711</td>\n",
       "      <td>43.894998</td>\n",
       "      <td>0</td>\n",
       "    </tr>\n",
       "    <tr>\n",
       "      <th>2</th>\n",
       "      <td>35.847409</td>\n",
       "      <td>72.902198</td>\n",
       "      <td>0</td>\n",
       "    </tr>\n",
       "    <tr>\n",
       "      <th>3</th>\n",
       "      <td>60.182599</td>\n",
       "      <td>86.308552</td>\n",
       "      <td>1</td>\n",
       "    </tr>\n",
       "    <tr>\n",
       "      <th>4</th>\n",
       "      <td>79.032736</td>\n",
       "      <td>75.344376</td>\n",
       "      <td>1</td>\n",
       "    </tr>\n",
       "  </tbody>\n",
       "</table>\n",
       "</div>"
      ],
      "text/plain": [
       "       Exam1      Exam2  score\n",
       "0  34.623660  78.024693      0\n",
       "1  30.286711  43.894998      0\n",
       "2  35.847409  72.902198      0\n",
       "3  60.182599  86.308552      1\n",
       "4  79.032736  75.344376      1"
      ]
     },
     "execution_count": 49,
     "metadata": {},
     "output_type": "execute_result"
    }
   ],
   "source": [
    "data=pd.read_csv( 'ex2data1.txt',names=['Exam1','Exam2','score'])\n",
    "data.head()"
   ]
  },
  {
   "cell_type": "code",
   "execution_count": 50,
   "metadata": {},
   "outputs": [
    {
     "data": {
      "image/png": "[encoded data removed]",
      "text/plain": [
       "<Figure size 640x480 with 1 Axes>"
      ]
     },
     "metadata": {},
     "output_type": "display_data"
    }
   ],
   "source": [
    "fig,ax = plt.subplots()\n",
    "ax.scatter(data[data['score']==0]['Exam1'],data[data['score']==0]['Exam2'],c='r',marker='x',label='y=0')\n",
    "ax.scatter(data[data['score']==1]['Exam1'],data[data['score']==1]['Exam2'],c='b',marker='o',label='y=1')\n",
    "ax.legend()\n",
    "ax.set(xlabel='exam1',ylabel='exam2')\n",
    "plt.show()"
   ]
  },
  {
   "cell_type": "code",
   "execution_count": 51,
   "metadata": {},
   "outputs": [],
   "source": [
    "def get_Xy(data):\n",
    "    \n",
    "    data.insert(0,'ones',1)\n",
    "    X_ = data.iloc[:,0:-1]\n",
    "    X = X_.values\n",
    "    \n",
    "    y_ = data.iloc[:,-1]\n",
    "    y = y_.values.reshape(len(y_),1)\n",
    "    \n",
    "    return X,y"
   ]
  },
  {
   "cell_type": "code",
   "execution_count": 52,
   "metadata": {},
   "outputs": [],
   "source": [
    "X,y = get_Xy(data)"
   ]
  },
  {
   "cell_type": "code",
   "execution_count": 53,
   "metadata": {},
   "outputs": [],
   "source": [
    "def sigmoid(z):\n",
    "    \n",
    "    return 1 / (1 + np.exp(-z))"
   ]
  },
  {
   "cell_type": "code",
   "execution_count": 54,
   "metadata": {},
   "outputs": [],
   "source": [
    "def costFunction(X,y,theta):\n",
    "    \n",
    "    A = sigmoid(X@theta)\n",
    "    \n",
    "    first = y * np.log(A)\n",
    "    second = (1-y) * np.log(1-A)\n",
    "    \n",
    "    return -np.sum(first + second) / len(X)"
   ]
  },
  {
   "cell_type": "code",
   "execution_count": 55,
   "metadata": {},
   "outputs": [
    {
     "data": {
      "text/plain": [
       "(3, 1)"
      ]
     },
     "execution_count": 55,
     "metadata": {},
     "output_type": "execute_result"
    }
   ],
   "source": [
    "theta = np.zeros((3,1))\n",
    "theta.shape"
   ]
  },
  {
   "cell_type": "code",
   "execution_count": 56,
   "metadata": {},
   "outputs": [
    {
     "name": "stdout",
     "output_type": "stream",
     "text": [
      "0.6931471805599453\n"
     ]
    }
   ],
   "source": [
    "cost_init = costFunction(X,y,theta)\n",
    "print(cost_init)"
   ]
  },
  {
   "cell_type": "code",
   "execution_count": 57,
   "metadata": {},
   "outputs": [],
   "source": [
    "def gradientDescent(X,y,theta,iters,alpha):\n",
    "    m = len(X)\n",
    "    costs = []\n",
    "    \n",
    "    for i in range(iters):\n",
    "        A = sigmoid(X@theta)\n",
    "        theta  = theta -(alpha/m)  * X.T @ (A - y)\n",
    "        cost = costFunction(X,y,theta)\n",
    "        costs.append(cost)\n",
    "        if i % 1000 == 0:\n",
    "            print(cost)\n",
    "    return costs, theta"
   ]
  },
  {
   "cell_type": "code",
   "execution_count": 58,
   "metadata": {},
   "outputs": [],
   "source": [
    "alpha = 0.004\n",
    "iters=200000"
   ]
  },
  {
   "cell_type": "code",
   "execution_count": 59,
   "metadata": {},
   "outputs": [
    {
     "name": "stdout",
     "output_type": "stream",
     "text": [
      "1.9886538578930084\n",
      "3.0781700198641544\n",
      "5.487009635362496\n",
      "1.8519433661332625\n",
      "2.9551289424083587\n",
      "5.438688730769618\n",
      "1.8046128090728508\n",
      "2.831271577607404\n",
      "5.3886531633606145\n",
      "1.7561538117121571\n",
      "2.706676380747814\n",
      "5.3365673644957425\n",
      "1.706280704769481\n",
      "2.5818508519054273\n",
      "5.281774101800353\n",
      "1.6544129958512042\n",
      "2.457843094743574\n",
      "5.223255119969365\n",
      "1.5996612097145555\n",
      "2.3362477519414626\n",
      "5.159653459570274\n",
      "1.5408871901849082\n",
      "2.21904920384689\n",
      "5.089387088751128\n",
      "1.4768567851081464\n",
      "2.108268509053649\n",
      "5.010845104587983\n",
      "1.4064493632805861\n",
      "2.005433890383271\n",
      "4.9225734611717336\n",
      "1.328804126125444\n",
      "1.9109646054893648\n",
      "4.82325748482661\n",
      "1.2432202250971676\n",
      "1.8235866121521394\n",
      "4.711246821296763\n",
      "1.1486277932139561\n",
      "1.7397667362448004\n",
      "4.583257400457349\n",
      "1.0423478306006688\n",
      "1.6525865746034034\n",
      "4.430932868329269\n",
      "0.9166267386002198\n",
      "1.546533127655085\n",
      "4.224624720512681\n",
      "0.7330944584991134\n",
      "3.9329492365965417\n",
      "0.7522283517523697\n",
      "1.2666696255093743\n",
      "3.4489286724899495\n",
      "2.296681323871993\n",
      "0.6909998996878383\n",
      "0.24482450820499038\n",
      "0.8633975293930058\n",
      "0.23902465587132427\n",
      "0.8676930065200054\n",
      "0.2537758934220956\n",
      "0.6116821370892567\n",
      "0.25540077193776567\n",
      "0.3721703691641414\n",
      "0.22998950806178775\n",
      "0.2742722313538318\n",
      "0.23235725590411654\n",
      "0.7674898169260831\n",
      "0.2730800182527186\n",
      "0.23062493621492877\n",
      "1.0187086858036893\n",
      "2.2749380790117986\n",
      "0.5348085226284964\n",
      "0.24828935593282553\n",
      "0.590131336825553\n",
      "0.9628303882573634\n",
      "0.2861791327961175\n",
      "0.3680903728662139\n",
      "0.7823256661650988\n",
      "0.8468820664296537\n",
      "0.4295290704690288\n",
      "0.6964411510160626\n",
      "0.8597262372212866\n",
      "0.845153960426038\n",
      "0.7758703148954935\n",
      "0.7361890628885845\n",
      "0.7422365073141411\n",
      "0.760105539544802\n",
      "0.7779376258072576\n",
      "0.771669676773577\n",
      "0.7646039096252608\n",
      "0.756582469002528\n",
      "0.7473881389928474\n",
      "0.736708346048752\n",
      "0.7240620618927168\n",
      "0.7086322167151655\n",
      "0.6887917578506287\n",
      "0.6601660986864394\n",
      "0.6068389319443056\n",
      "0.5972387363556009\n",
      "0.5953090851768055\n",
      "0.5932637004657997\n",
      "0.591102430580031\n",
      "0.5888255171096427\n",
      "0.5864336019055705\n",
      "0.5839277304845255\n",
      "0.5813093512705061\n",
      "0.5785803103013738\n",
      "0.575742841128733\n",
      "0.5727995497662562\n",
      "0.5697533946909522\n",
      "0.5666076620671825\n",
      "0.56336593653549\n",
      "0.5600320680771191\n",
      "0.5566101356195304\n",
      "0.5531044081779226\n",
      "0.5495193044234685\n",
      "0.5458593516241289\n",
      "0.5421291449150618\n",
      "0.5383333078223211\n",
      "0.5344764548893667\n",
      "0.5305631571466001\n",
      "0.5265979110283742\n",
      "0.5225851111891898\n",
      "0.5185290275111604\n",
      "0.5144337864377214\n",
      "0.5103033566222241\n",
      "0.5061415387506757\n",
      "0.5019519592901662\n",
      "0.49773806783039354\n",
      "0.4935031376259911\n",
      "0.48925026891062273\n",
      "0.4849823945383228\n",
      "0.4807022875096415\n",
      "0.4764125699571761\n",
      "0.4721157231929248\n",
      "0.46781409845578276\n",
      "0.46350992803806507\n",
      "0.4592053365130729\n",
      "0.45490235182883454\n",
      "0.450602916075262\n",
      "0.4463088957713212\n",
      "0.442022091555122\n",
      "0.4377442471920726\n",
      "0.43347705784495255\n",
      "0.42922217757390035\n",
      "0.4249812260548908\n",
      "0.42075579452196704\n",
      "0.4165474509516827\n",
      "0.41235774451814555\n",
      "0.4081882093541639\n",
      "0.40404036765841034\n",
      "0.3999157321907053\n",
      "0.3958158081976514\n",
      "0.3917420948093778\n",
      "0.3876960859452834\n",
      "0.3836792707626161\n",
      "0.37969313367712476\n",
      "0.3757391539796751\n",
      "0.3718188050675565\n",
      "0.36793355330385147\n",
      "0.36408485651367706\n",
      "0.360274162121892\n",
      "0.35650290493423076\n",
      "0.3527725045618812\n",
      "0.3490843624894172\n",
      "0.34543985878755396\n",
      "0.3418403484752315\n",
      "0.3382871575405816\n",
      "0.3347815786369568\n",
      "0.3313248664783608\n",
      "0.327918232968103\n",
      "0.32456284210479214\n",
      "0.32125980472065324\n",
      "0.318010173117843\n",
      "0.3148149356784746\n",
      "0.311675011533071\n",
      "0.308591245378736\n",
      "0.30556440254331757\n",
      "0.3025951643931936\n",
      "0.29968412418109286\n",
      "0.2968317834251917\n",
      "0.2940385489029586\n",
      "0.2913047303315739\n",
      "0.28863053879291195\n",
      "0.28601608594462585\n",
      "0.28346138404137244\n",
      "0.2809663467710942\n",
      "0.27853079089329175\n",
      "0.2761544386478536\n",
      "0.27383692088693645\n",
      "0.2715777808680075\n",
      "0.2693764786343405\n",
      "0.2672323959002745\n",
      "0.2651448413527785\n",
      "0.26311305627739967\n",
      "0.26113622041695805\n",
      "0.25921345797325446\n",
      "0.25734384366681584\n",
      "0.25552640877589883\n",
      "0.2537601470835988\n",
      "0.25204402067067\n",
      "0.25037696550058997\n",
      "0.24875789675283788\n"
     ]
    }
   ],
   "source": [
    "costs,theta_final =  gradientDescent(X,y,theta,iters,alpha)"
   ]
  }
 ],
 "metadata": {
  "kernelspec": {
   "display_name": "wuenda",
   "language": "python",
   "name": "python3"
  },
  "language_info": {
   "codemirror_mode": {
    "name": "ipython",
    "version": 3
   },
   "file_extension": ".py",
   "mimetype": "text/x-python",
   "name": "python",
   "nbconvert_exporter": "python",
   "pygments_lexer": "ipython3",
   "version": "3.11.4"
  }
 },
 "nbformat": 4,
 "nbformat_minor": 2
}
