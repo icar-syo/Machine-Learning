{
 "cells": [
  {
   "cell_type": "code",
   "execution_count": null,
   "metadata": {},
   "outputs": [],
   "source": [
    "import torch\n",
    "import torch.nn as nn\n",
    "import torch.nn.functional as F\n",
    "\n",
    "class AlexNet(nn.Module):\n",
    "    def __init__(self):\n",
    "        super(AlexNet, self).__init__()\n",
    "        self.c1 = nn.Conv2d(in_channels=3, out_channels=48, kernel_size=11, stride=4, padding=2)\n",
    "        self.ReLU = nn.ReLU()\n",
    "        self.c2 = nn.Conv2d(in_channels=48, out_channels=128, kernel_size=5, stride=1, padding=2)\n",
    "        self.s2 = nn.MaxPool2d(2)\n",
    "        self.c3 = nn.Conv2d(in_channels=128, out_channels=192, kernel_size=3, stride=1, padding=1)\n",
    "        self.s3 = nn.MaxPool2d(2)\n",
    "        self.c4 = nn.Conv2d(in_channels=192, out_channels=192, kernel_size=3, stride=1, padding=1)\n",
    "        self.c5 = nn.Conv2d(in_channels=192, out_channels=128, kernel_size=3, stride=1, padding=1)\n",
    "        self.s5 = nn.MaxPool2d(kernel_size=3, stride=2)\n",
    "        self.flatten = nn.Flatten()\n",
    "        self.f6 = nn.Linear(4608, 2048)\n",
    "        self.f7 = nn.Linear(2048, 2048)\n",
    "        self.f8 = nn.Linear(2048, 1000)\n",
    "        self.f9 = nn.Linear(1000, 2)\n",
    "\n",
    "    def forward(self, x):\n",
    "        x = self.ReLU(self.c1(x))\n",
    "        x = self.ReLU(self.c2(x))\n",
    "        x = self.s2(x)\n",
    "        x = self.ReLU(self.c3(x))\n",
    "        x = self.s3(x)\n",
    "        x = self.ReLU(self.c4(x))\n",
    "        x = self.ReLU(self.c5(x))\n",
    "        x = self.s5(x)\n",
    "        x = self.flatten(x)\n",
    "        x = self.f6(x)\n",
    "        x = F.dropout(x, p=0.5)\n",
    "        x = self.f7(x)\n",
    "        x = F.dropout(x, p=0.5)\n",
    "        x = self.f8(x)\n",
    "        x = F.dropout(x, p=0.5)\n",
    "\n",
    "        x = self.f9(x)\n",
    "        return x\n",
    "\n",
    "if __name__ == '__main__':\n",
    "    x = torch.rand([1, 3, 224, 224])\n",
    "    model = AlexNet()\n",
    "    Y = model(x)\n",
    "    print(Y.shape)"
   ]
  }
 ],
 "metadata": {
  "language_info": {
   "name": "python"
  }
 },
 "nbformat": 4,
 "nbformat_minor": 2
}
